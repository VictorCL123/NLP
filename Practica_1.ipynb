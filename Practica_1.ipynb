{
 "cells": [
  {
   "cell_type": "code",
   "execution_count": 1,
   "metadata": {},
   "outputs": [],
   "source": [
    "import spacy\n",
    "from spacy.lang.en import English\n",
    "import networkx as nx\n",
    "import matplotlib.pyplot as plt"
   ]
  },
  {
   "cell_type": "code",
   "execution_count": 2,
   "metadata": {},
   "outputs": [],
   "source": [
    "def getSentences(text):\n",
    "    nlp = English()\n",
    "    nlp.add_pipe(nlp.create_pipe('sentencizer'))\n",
    "    document = nlp(text)\n",
    "    return [sent.string.strip() for sent in document.sents]"
   ]
  },
  {
   "cell_type": "code",
   "execution_count": 3,
   "metadata": {},
   "outputs": [],
   "source": [
    "def printToken(token):\n",
    "    print(token.text, \"->\", token.dep_)"
   ]
  },
  {
   "cell_type": "code",
   "execution_count": 4,
   "metadata": {},
   "outputs": [],
   "source": [
    "def appendChunk(original, chunk):\n",
    "    return original + ' ' + chunk"
   ]
  },
  {
   "cell_type": "code",
   "execution_count": 5,
   "metadata": {},
   "outputs": [],
   "source": [
    "def isRelationCandidate(token):\n",
    "    deps = [\"ROOT\", \"adj\", \"attr\", \"agent\", \"amod\"]\n",
    "    return any(subs in token.dep_ for subs in deps)"
   ]
  },
  {
   "cell_type": "code",
   "execution_count": 6,
   "metadata": {},
   "outputs": [],
   "source": [
    "def isConstructionCandidate(token):\n",
    "    deps = [\"compound\", \"prep\", \"conj\", \"mod\"]\n",
    "    return any(subs in token.dep_ for subs in deps)"
   ]
  },
  {
   "cell_type": "code",
   "execution_count": 7,
   "metadata": {},
   "outputs": [],
   "source": [
    "def processSubjectObjectPairs(tokens):\n",
    "    subject = ''\n",
    "    object = ''\n",
    "    relation = ''\n",
    "    subjectConstruction = ''\n",
    "    objectConstruction = ''\n",
    "    for token in tokens:\n",
    "        #printToken(token)\n",
    "        if \"punct\" in token.dep_:\n",
    "            continue\n",
    "        if isRelationCandidate(token):\n",
    "            relation = appendChunk(relation, token.lemma_)\n",
    "        if isConstructionCandidate(token):\n",
    "            if subjectConstruction:\n",
    "                subjectConstruction = appendChunk(subjectConstruction, token.text)\n",
    "            if objectConstruction:\n",
    "                objectConstruction = appendChunk(objectConstruction, token.text)\n",
    "        if \"subj\" in token.dep_:\n",
    "            subject = appendChunk(subject, token.text)\n",
    "            subject = appendChunk(subjectConstruction, subject)\n",
    "            subjectConstruction = ''\n",
    "        if \"obj\" in token.dep_:\n",
    "            object = appendChunk(object, token.text)\n",
    "            object = appendChunk(objectConstruction, object)\n",
    "            objectConstruction = ''\n",
    "    print (subject.strip(), \",\", relation.strip(), \",\", object.strip())\n",
    "    return (subject.strip(), relation.strip(), object.strip())"
   ]
  },
  {
   "cell_type": "code",
   "execution_count": 8,
   "metadata": {},
   "outputs": [],
   "source": [
    "def processSentence(sentence):\n",
    "    tokens = nlp_model(sentence)\n",
    "    return processSubjectObjectPairs(tokens)"
   ]
  },
  {
   "cell_type": "code",
   "execution_count": 9,
   "metadata": {},
   "outputs": [],
   "source": [
    "def printGraph(triples):\n",
    "    G = nx.Graph()\n",
    "    for triple in triples:\n",
    "        G.add_node(triple[0])\n",
    "        G.add_node(triple[1])\n",
    "        G.add_node(triple[2])\n",
    "        G.add_edge(triple[0], triple[1])\n",
    "        G.add_edge(triple[1], triple[2])\n",
    "    pos = nx.spring_layout(G)\n",
    "    plt.figure()\n",
    "    nx.draw(G, pos, edge_color='black', width=1, linewidths=1,\n",
    "          node_size=500, node_color='seagreen', alpha=0.9,\n",
    "          labels={node: node for node in G.nodes()})\n",
    "    plt.axis('off')\n",
    "    plt.show()"
   ]
  },
  {
   "cell_type": "code",
   "execution_count": 18,
   "metadata": {},
   "outputs": [],
   "source": [
    "text = \"The Netherlands informally Holland,is a country primarily located in Western Europe and partly in the Caribbean,\"\\\n",
    "        \"forming the largest constituent country of the Kingdom of the Netherlands,\"\\\n",
    "        \"The country's official language is Dutch, with West Frisian as a secondary,\"\\\n",
    "        \"The four largest cities in the Netherlands are Amsterdam, Rotterdam, The Hague and Utrecht.\"\\\n",
    "        \"Netherlands literally means 'lower countries' in reference to its low elevation and flat topography.\"\\\n",
    "        \"The Netherlands is geographically very low relative to sea level and is considered a flat country.\"\\\n",
    "        \"Amsterdam is the financial and business capital of the Netherlands\""
   ]
  },
  {
   "cell_type": "code",
   "execution_count": 19,
   "metadata": {},
   "outputs": [],
   "source": [
    "sentences = getSentences(text)\n",
    "nlp_model = spacy.load('en_core_web_sm')"
   ]
  },
  {
   "cell_type": "code",
   "execution_count": 20,
   "metadata": {},
   "outputs": [
    {
     "name": "stdout",
     "output_type": "stream",
     "text": [
      "The Netherlands informally Holland,is a country primarily located in Western Europe and partly in the Caribbean,forming the largest constituent country of the Kingdom of the Netherlands,The country's official language is Dutch, with West Frisian as a secondary,The four largest cities in the Netherlands are Amsterdam, Rotterdam, The Hague and Utrecht.Netherlands literally means 'lower countries' in reference to its low elevation and flat topography.The Netherlands is geographically very low relative to sea level and is considered a flat country.Amsterdam is the financial and business capital of the Netherlands\n",
      "Netherlands language cities , be country large official large Amsterdam , Europe Caribbean country Kingdom Netherlands Frisian secondary Netherlands\n",
      "Netherlands , mean low low flat , countries reference elevation\n",
      "Netherlands , be flat , level\n",
      "Amsterdam , be financial capital , Netherlands\n"
     ]
    }
   ],
   "source": [
    "triples = [] # triple, that is a set of three items(a subject, a predicate and an object\n",
    "print (text)\n",
    "for sentence in sentences:\n",
    "    triples.append(processSentence(sentence))"
   ]
  },
  {
   "cell_type": "code",
   "execution_count": 21,
   "metadata": {},
   "outputs": [
    {
     "data": {
      "image/png": "[encoded data removed]",
      "text/plain": [
       "<Figure size 432x288 with 1 Axes>"
      ]
     },
     "metadata": {},
     "output_type": "display_data"
    }
   ],
   "source": [
    "printGraph(triples)"
   ]
  },
  {
   "cell_type": "code",
   "execution_count": null,
   "metadata": {},
   "outputs": [],
   "source": []
  }
 ],
 "metadata": {
  "kernelspec": {
   "display_name": "Python 3",
   "language": "python",
   "name": "python3"
  },
  "language_info": {
   "codemirror_mode": {
    "name": "ipython",
    "version": 3
   },
   "file_extension": ".py",
   "mimetype": "text/x-python",
   "name": "python",
   "nbconvert_exporter": "python",
   "pygments_lexer": "ipython3",
   "version": "3.6.9"
  }
 },
 "nbformat": 4,
 "nbformat_minor": 4
}
